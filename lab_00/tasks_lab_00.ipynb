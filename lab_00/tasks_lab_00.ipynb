{
 "cells": [
  {
   "metadata": {
    "collapsed": true,
    "ExecuteTime": {
     "end_time": "2025-10-05T19:24:58.385189Z",
     "start_time": "2025-10-05T19:24:58.383160Z"
    }
   },
   "cell_type": "code",
   "source": [
    "import numpy as np\n",
    "import pandas as pd"
   ],
   "id": "initial_id",
   "outputs": [],
   "execution_count": 127
  },
  {
   "metadata": {},
   "cell_type": "markdown",
   "source": "9. Stwórz tablicę NumPy i pomnóż ją przez wektor.",
   "id": "90e6c154fdd78f5f"
  },
  {
   "metadata": {
    "ExecuteTime": {
     "end_time": "2025-10-05T18:29:23.585443Z",
     "start_time": "2025-10-05T18:29:23.582929Z"
    }
   },
   "cell_type": "code",
   "source": [
    "original_array = np.array([[1, 2, 3],\n",
    "                          [4, 5, 6],\n",
    "                          [7, 8, 9]])\n",
    "vector = np.array([1, 0, 0.5])\n",
    "result = original_array * vector"
   ],
   "id": "74e9854507bd7fb",
   "outputs": [],
   "execution_count": 5
  },
  {
   "metadata": {
    "ExecuteTime": {
     "end_time": "2025-10-05T18:29:25.542136Z",
     "start_time": "2025-10-05T18:29:25.538871Z"
    }
   },
   "cell_type": "code",
   "source": "result",
   "id": "27853023f85d5ad7",
   "outputs": [
    {
     "data": {
      "text/plain": [
       "array([[1. , 0. , 1.5],\n",
       "       [4. , 0. , 3. ],\n",
       "       [7. , 0. , 4.5]])"
      ]
     },
     "execution_count": 6,
     "metadata": {},
     "output_type": "execute_result"
    }
   ],
   "execution_count": 6
  },
  {
   "metadata": {},
   "cell_type": "markdown",
   "source": "10. Stwórz sub-tablicę z większej tablicy NumPy (np. 2x2 sub-tablica z 4x4 tablicy).",
   "id": "f8c2e367e6de7109"
  },
  {
   "metadata": {
    "ExecuteTime": {
     "end_time": "2025-10-05T18:33:05.906883Z",
     "start_time": "2025-10-05T18:33:05.904308Z"
    }
   },
   "cell_type": "code",
   "source": [
    "original_big_array = np.array([[1, 2, 3, 4],\n",
    "                               [5, 6, 7, 8],\n",
    "                               [9, 10, 11, 12],\n",
    "                               [13, 14, 15, 16]])\n",
    "small_sub_array = original_big_array[1:4:2, 2:4]"
   ],
   "id": "a0f34893a93a3ca1",
   "outputs": [],
   "execution_count": 27
  },
  {
   "metadata": {
    "ExecuteTime": {
     "end_time": "2025-10-05T18:33:07.158349Z",
     "start_time": "2025-10-05T18:33:07.155488Z"
    }
   },
   "cell_type": "code",
   "source": "small_sub_array",
   "id": "9e137928dc2bc0eb",
   "outputs": [
    {
     "data": {
      "text/plain": [
       "array([[ 7,  8],\n",
       "       [15, 16]])"
      ]
     },
     "execution_count": 28,
     "metadata": {},
     "output_type": "execute_result"
    }
   ],
   "execution_count": 28
  },
  {
   "metadata": {},
   "cell_type": "markdown",
   "source": "11. Wygeneruj macierz losową o wymiarach 5x5, a następnie znajdź jej macierz odwrotną. Sprawdź, czy iloczyn macierzy i jej odwrotności daje macierz jednostkową.",
   "id": "b63499829ef9934a"
  },
  {
   "metadata": {
    "ExecuteTime": {
     "end_time": "2025-10-05T18:42:32.488008Z",
     "start_time": "2025-10-05T18:42:32.485008Z"
    }
   },
   "cell_type": "code",
   "source": [
    "matrix = np.random.randint(0,14, size=(5, 5))\n",
    "inverse_matrix = np.linalg.inv(matrix)\n",
    "identity_check = np.dot(matrix, inverse_matrix)"
   ],
   "id": "7db41dbcf0270cd8",
   "outputs": [],
   "execution_count": 53
  },
  {
   "metadata": {
    "ExecuteTime": {
     "end_time": "2025-10-05T18:42:36.469053Z",
     "start_time": "2025-10-05T18:42:36.465191Z"
    }
   },
   "cell_type": "code",
   "source": "np.allclose(inverse_matrix, np.eye(5))",
   "id": "c4ff5838f1f00d54",
   "outputs": [
    {
     "data": {
      "text/plain": [
       "False"
      ]
     },
     "execution_count": 55,
     "metadata": {},
     "output_type": "execute_result"
    }
   ],
   "execution_count": 55
  },
  {
   "metadata": {},
   "cell_type": "markdown",
   "source": "12. Utwórz dwie macierze 3x3 z losowymi wartościami i oblicz ich iloczyn macierzowy. Następnie dodaj do wyniku macierz jednostkową.",
   "id": "ce6b238bd9337f0b"
  },
  {
   "metadata": {
    "ExecuteTime": {
     "end_time": "2025-10-05T18:44:11.625630Z",
     "start_time": "2025-10-05T18:44:11.622919Z"
    }
   },
   "cell_type": "code",
   "source": [
    "first_matrix = np.random.randint(0, 15, size=(3, 3))\n",
    "second_matrix = np.random.randint(10, 28, size=(3, 3))\n",
    "matrix_product = np.dot(first_matrix, second_matrix)\n",
    "result_matrix = matrix_product + np.eye(3)"
   ],
   "id": "84de2ad1ad596a2e",
   "outputs": [],
   "execution_count": 56
  },
  {
   "metadata": {
    "ExecuteTime": {
     "end_time": "2025-10-05T18:44:12.745399Z",
     "start_time": "2025-10-05T18:44:12.742434Z"
    }
   },
   "cell_type": "code",
   "source": "result_matrix",
   "id": "dfbedd8b79abd7fb",
   "outputs": [
    {
     "data": {
      "text/plain": [
       "array([[649., 555., 621.],\n",
       "       [398., 315., 380.],\n",
       "       [338., 353., 308.]])"
      ]
     },
     "execution_count": 57,
     "metadata": {},
     "output_type": "execute_result"
    }
   ],
   "execution_count": 57
  },
  {
   "metadata": {},
   "cell_type": "markdown",
   "source": "13. Utwórz tablicę 2D z losowymi wartościami i oblicz średnią, medianę oraz odchylenie standardowe dla każdej kolumny.",
   "id": "11d42e1dd01e2cb8"
  },
  {
   "metadata": {
    "ExecuteTime": {
     "end_time": "2025-10-05T18:52:32.647427Z",
     "start_time": "2025-10-05T18:52:32.644092Z"
    }
   },
   "cell_type": "code",
   "source": [
    "two_dementional_array = np.random.randint(14, 82, size=(4, 4))\n",
    "two_dementional_array"
   ],
   "id": "4a9ef57ee6aa7d9d",
   "outputs": [
    {
     "data": {
      "text/plain": [
       "array([[39, 20, 22, 60],\n",
       "       [44, 62, 26, 51],\n",
       "       [43, 51, 32, 36],\n",
       "       [59, 25, 45, 15]])"
      ]
     },
     "execution_count": 80,
     "metadata": {},
     "output_type": "execute_result"
    }
   ],
   "execution_count": 80
  },
  {
   "metadata": {
    "ExecuteTime": {
     "end_time": "2025-10-05T18:52:34.237721Z",
     "start_time": "2025-10-05T18:52:34.233151Z"
    }
   },
   "cell_type": "code",
   "source": "np.mean(two_dementional_array, axis=0)",
   "id": "a08f2468840109a6",
   "outputs": [
    {
     "data": {
      "text/plain": [
       "array([46.25, 39.5 , 31.25, 40.5 ])"
      ]
     },
     "execution_count": 81,
     "metadata": {},
     "output_type": "execute_result"
    }
   ],
   "execution_count": 81
  },
  {
   "metadata": {
    "ExecuteTime": {
     "end_time": "2025-10-05T18:52:35.544376Z",
     "start_time": "2025-10-05T18:52:35.540734Z"
    }
   },
   "cell_type": "code",
   "source": "np.median(two_dementional_array, axis=0)",
   "id": "49cc8623fab34218",
   "outputs": [
    {
     "data": {
      "text/plain": [
       "array([43.5, 38. , 29. , 43.5])"
      ]
     },
     "execution_count": 82,
     "metadata": {},
     "output_type": "execute_result"
    }
   ],
   "execution_count": 82
  },
  {
   "metadata": {
    "ExecuteTime": {
     "end_time": "2025-10-05T18:52:36.736812Z",
     "start_time": "2025-10-05T18:52:36.733655Z"
    }
   },
   "cell_type": "code",
   "source": "np.std(two_dementional_array, axis=0)",
   "id": "fe2e361fc0b6ec54",
   "outputs": [
    {
     "data": {
      "text/plain": [
       "array([ 7.59522877, 17.52854814,  8.69985632, 17.03672504])"
      ]
     },
     "execution_count": 83,
     "metadata": {},
     "output_type": "execute_result"
    }
   ],
   "execution_count": 83
  },
  {
   "metadata": {},
   "cell_type": "markdown",
   "source": "14. Wczytaj dane z pliku CSV zawierającego informacje o sprzedaży (np. plik sales_data.csv). Zastosuj metody head(), info(), describe() do analizy danych.",
   "id": "45d3c79da209d115"
  },
  {
   "metadata": {
    "ExecuteTime": {
     "end_time": "2025-10-05T18:54:50.437857Z",
     "start_time": "2025-10-05T18:54:50.326812Z"
    }
   },
   "cell_type": "code",
   "source": "df = pd.read_csv('sales_data.csv')",
   "id": "bad18061f3bac9f6",
   "outputs": [],
   "execution_count": 85
  },
  {
   "metadata": {
    "ExecuteTime": {
     "end_time": "2025-10-05T18:55:11.367774Z",
     "start_time": "2025-10-05T18:55:11.361118Z"
    }
   },
   "cell_type": "code",
   "source": "df.head(7)",
   "id": "8b7949bdc927ae3",
   "outputs": [
    {
     "data": {
      "text/plain": [
       "         Date  Day     Month  Year  Customer_Age       Age_Group  \\\n",
       "0  2013-11-26   26  November  2013            19     Youth (<25)   \n",
       "1  2015-11-26   26  November  2015            19     Youth (<25)   \n",
       "2  2014-03-23   23     March  2014            49  Adults (35-64)   \n",
       "3  2016-03-23   23     March  2016            49  Adults (35-64)   \n",
       "4  2014-05-15   15       May  2014            47  Adults (35-64)   \n",
       "5  2016-05-15   15       May  2016            47  Adults (35-64)   \n",
       "6  2014-05-22   22       May  2014            47  Adults (35-64)   \n",
       "\n",
       "  Customer_Gender    Country             State Product_Category Sub_Category  \\\n",
       "0               M     Canada  British Columbia      Accessories   Bike Racks   \n",
       "1               M     Canada  British Columbia      Accessories   Bike Racks   \n",
       "2               M  Australia   New South Wales      Accessories   Bike Racks   \n",
       "3               M  Australia   New South Wales      Accessories   Bike Racks   \n",
       "4               F  Australia   New South Wales      Accessories   Bike Racks   \n",
       "5               F  Australia   New South Wales      Accessories   Bike Racks   \n",
       "6               F  Australia          Victoria      Accessories   Bike Racks   \n",
       "\n",
       "               Product  Order_Quantity  Unit_Cost  Unit_Price  Profit  Cost  \\\n",
       "0  Hitch Rack - 4-Bike               8         45         120     590   360   \n",
       "1  Hitch Rack - 4-Bike               8         45         120     590   360   \n",
       "2  Hitch Rack - 4-Bike              23         45         120    1366  1035   \n",
       "3  Hitch Rack - 4-Bike              20         45         120    1188   900   \n",
       "4  Hitch Rack - 4-Bike               4         45         120     238   180   \n",
       "5  Hitch Rack - 4-Bike               5         45         120     297   225   \n",
       "6  Hitch Rack - 4-Bike               4         45         120     199   180   \n",
       "\n",
       "   Revenue  \n",
       "0      950  \n",
       "1      950  \n",
       "2     2401  \n",
       "3     2088  \n",
       "4      418  \n",
       "5      522  \n",
       "6      379  "
      ],
      "text/html": [
       "<div>\n",
       "<style scoped>\n",
       "    .dataframe tbody tr th:only-of-type {\n",
       "        vertical-align: middle;\n",
       "    }\n",
       "\n",
       "    .dataframe tbody tr th {\n",
       "        vertical-align: top;\n",
       "    }\n",
       "\n",
       "    .dataframe thead th {\n",
       "        text-align: right;\n",
       "    }\n",
       "</style>\n",
       "<table border=\"1\" class=\"dataframe\">\n",
       "  <thead>\n",
       "    <tr style=\"text-align: right;\">\n",
       "      <th></th>\n",
       "      <th>Date</th>\n",
       "      <th>Day</th>\n",
       "      <th>Month</th>\n",
       "      <th>Year</th>\n",
       "      <th>Customer_Age</th>\n",
       "      <th>Age_Group</th>\n",
       "      <th>Customer_Gender</th>\n",
       "      <th>Country</th>\n",
       "      <th>State</th>\n",
       "      <th>Product_Category</th>\n",
       "      <th>Sub_Category</th>\n",
       "      <th>Product</th>\n",
       "      <th>Order_Quantity</th>\n",
       "      <th>Unit_Cost</th>\n",
       "      <th>Unit_Price</th>\n",
       "      <th>Profit</th>\n",
       "      <th>Cost</th>\n",
       "      <th>Revenue</th>\n",
       "    </tr>\n",
       "  </thead>\n",
       "  <tbody>\n",
       "    <tr>\n",
       "      <th>0</th>\n",
       "      <td>2013-11-26</td>\n",
       "      <td>26</td>\n",
       "      <td>November</td>\n",
       "      <td>2013</td>\n",
       "      <td>19</td>\n",
       "      <td>Youth (&lt;25)</td>\n",
       "      <td>M</td>\n",
       "      <td>Canada</td>\n",
       "      <td>British Columbia</td>\n",
       "      <td>Accessories</td>\n",
       "      <td>Bike Racks</td>\n",
       "      <td>Hitch Rack - 4-Bike</td>\n",
       "      <td>8</td>\n",
       "      <td>45</td>\n",
       "      <td>120</td>\n",
       "      <td>590</td>\n",
       "      <td>360</td>\n",
       "      <td>950</td>\n",
       "    </tr>\n",
       "    <tr>\n",
       "      <th>1</th>\n",
       "      <td>2015-11-26</td>\n",
       "      <td>26</td>\n",
       "      <td>November</td>\n",
       "      <td>2015</td>\n",
       "      <td>19</td>\n",
       "      <td>Youth (&lt;25)</td>\n",
       "      <td>M</td>\n",
       "      <td>Canada</td>\n",
       "      <td>British Columbia</td>\n",
       "      <td>Accessories</td>\n",
       "      <td>Bike Racks</td>\n",
       "      <td>Hitch Rack - 4-Bike</td>\n",
       "      <td>8</td>\n",
       "      <td>45</td>\n",
       "      <td>120</td>\n",
       "      <td>590</td>\n",
       "      <td>360</td>\n",
       "      <td>950</td>\n",
       "    </tr>\n",
       "    <tr>\n",
       "      <th>2</th>\n",
       "      <td>2014-03-23</td>\n",
       "      <td>23</td>\n",
       "      <td>March</td>\n",
       "      <td>2014</td>\n",
       "      <td>49</td>\n",
       "      <td>Adults (35-64)</td>\n",
       "      <td>M</td>\n",
       "      <td>Australia</td>\n",
       "      <td>New South Wales</td>\n",
       "      <td>Accessories</td>\n",
       "      <td>Bike Racks</td>\n",
       "      <td>Hitch Rack - 4-Bike</td>\n",
       "      <td>23</td>\n",
       "      <td>45</td>\n",
       "      <td>120</td>\n",
       "      <td>1366</td>\n",
       "      <td>1035</td>\n",
       "      <td>2401</td>\n",
       "    </tr>\n",
       "    <tr>\n",
       "      <th>3</th>\n",
       "      <td>2016-03-23</td>\n",
       "      <td>23</td>\n",
       "      <td>March</td>\n",
       "      <td>2016</td>\n",
       "      <td>49</td>\n",
       "      <td>Adults (35-64)</td>\n",
       "      <td>M</td>\n",
       "      <td>Australia</td>\n",
       "      <td>New South Wales</td>\n",
       "      <td>Accessories</td>\n",
       "      <td>Bike Racks</td>\n",
       "      <td>Hitch Rack - 4-Bike</td>\n",
       "      <td>20</td>\n",
       "      <td>45</td>\n",
       "      <td>120</td>\n",
       "      <td>1188</td>\n",
       "      <td>900</td>\n",
       "      <td>2088</td>\n",
       "    </tr>\n",
       "    <tr>\n",
       "      <th>4</th>\n",
       "      <td>2014-05-15</td>\n",
       "      <td>15</td>\n",
       "      <td>May</td>\n",
       "      <td>2014</td>\n",
       "      <td>47</td>\n",
       "      <td>Adults (35-64)</td>\n",
       "      <td>F</td>\n",
       "      <td>Australia</td>\n",
       "      <td>New South Wales</td>\n",
       "      <td>Accessories</td>\n",
       "      <td>Bike Racks</td>\n",
       "      <td>Hitch Rack - 4-Bike</td>\n",
       "      <td>4</td>\n",
       "      <td>45</td>\n",
       "      <td>120</td>\n",
       "      <td>238</td>\n",
       "      <td>180</td>\n",
       "      <td>418</td>\n",
       "    </tr>\n",
       "    <tr>\n",
       "      <th>5</th>\n",
       "      <td>2016-05-15</td>\n",
       "      <td>15</td>\n",
       "      <td>May</td>\n",
       "      <td>2016</td>\n",
       "      <td>47</td>\n",
       "      <td>Adults (35-64)</td>\n",
       "      <td>F</td>\n",
       "      <td>Australia</td>\n",
       "      <td>New South Wales</td>\n",
       "      <td>Accessories</td>\n",
       "      <td>Bike Racks</td>\n",
       "      <td>Hitch Rack - 4-Bike</td>\n",
       "      <td>5</td>\n",
       "      <td>45</td>\n",
       "      <td>120</td>\n",
       "      <td>297</td>\n",
       "      <td>225</td>\n",
       "      <td>522</td>\n",
       "    </tr>\n",
       "    <tr>\n",
       "      <th>6</th>\n",
       "      <td>2014-05-22</td>\n",
       "      <td>22</td>\n",
       "      <td>May</td>\n",
       "      <td>2014</td>\n",
       "      <td>47</td>\n",
       "      <td>Adults (35-64)</td>\n",
       "      <td>F</td>\n",
       "      <td>Australia</td>\n",
       "      <td>Victoria</td>\n",
       "      <td>Accessories</td>\n",
       "      <td>Bike Racks</td>\n",
       "      <td>Hitch Rack - 4-Bike</td>\n",
       "      <td>4</td>\n",
       "      <td>45</td>\n",
       "      <td>120</td>\n",
       "      <td>199</td>\n",
       "      <td>180</td>\n",
       "      <td>379</td>\n",
       "    </tr>\n",
       "  </tbody>\n",
       "</table>\n",
       "</div>"
      ]
     },
     "execution_count": 88,
     "metadata": {},
     "output_type": "execute_result"
    }
   ],
   "execution_count": 88
  },
  {
   "metadata": {
    "ExecuteTime": {
     "end_time": "2025-10-05T18:55:20.619931Z",
     "start_time": "2025-10-05T18:55:20.591988Z"
    }
   },
   "cell_type": "code",
   "source": "df.info()",
   "id": "86835ff1d8d9d67a",
   "outputs": [
    {
     "name": "stdout",
     "output_type": "stream",
     "text": [
      "<class 'pandas.core.frame.DataFrame'>\n",
      "RangeIndex: 113036 entries, 0 to 113035\n",
      "Data columns (total 18 columns):\n",
      " #   Column            Non-Null Count   Dtype \n",
      "---  ------            --------------   ----- \n",
      " 0   Date              113036 non-null  object\n",
      " 1   Day               113036 non-null  int64 \n",
      " 2   Month             113036 non-null  object\n",
      " 3   Year              113036 non-null  int64 \n",
      " 4   Customer_Age      113036 non-null  int64 \n",
      " 5   Age_Group         113036 non-null  object\n",
      " 6   Customer_Gender   113036 non-null  object\n",
      " 7   Country           113036 non-null  object\n",
      " 8   State             113036 non-null  object\n",
      " 9   Product_Category  113036 non-null  object\n",
      " 10  Sub_Category      113036 non-null  object\n",
      " 11  Product           113036 non-null  object\n",
      " 12  Order_Quantity    113036 non-null  int64 \n",
      " 13  Unit_Cost         113036 non-null  int64 \n",
      " 14  Unit_Price        113036 non-null  int64 \n",
      " 15  Profit            113036 non-null  int64 \n",
      " 16  Cost              113036 non-null  int64 \n",
      " 17  Revenue           113036 non-null  int64 \n",
      "dtypes: int64(9), object(9)\n",
      "memory usage: 15.5+ MB\n"
     ]
    }
   ],
   "execution_count": 89
  },
  {
   "metadata": {
    "ExecuteTime": {
     "end_time": "2025-10-05T18:55:47.543707Z",
     "start_time": "2025-10-05T18:55:47.518019Z"
    }
   },
   "cell_type": "code",
   "source": "df.describe()",
   "id": "af711d98afd1cc35",
   "outputs": [
    {
     "data": {
      "text/plain": [
       "                 Day           Year   Customer_Age  Order_Quantity  \\\n",
       "count  113036.000000  113036.000000  113036.000000   113036.000000   \n",
       "mean       15.665753    2014.401739      35.919212       11.901660   \n",
       "std         8.781567       1.272510      11.021936        9.561857   \n",
       "min         1.000000    2011.000000      17.000000        1.000000   \n",
       "25%         8.000000    2013.000000      28.000000        2.000000   \n",
       "50%        16.000000    2014.000000      35.000000       10.000000   \n",
       "75%        23.000000    2016.000000      43.000000       20.000000   \n",
       "max        31.000000    2016.000000      87.000000       32.000000   \n",
       "\n",
       "           Unit_Cost     Unit_Price         Profit           Cost  \\\n",
       "count  113036.000000  113036.000000  113036.000000  113036.000000   \n",
       "mean      267.296366     452.938427     285.051665     469.318695   \n",
       "std       549.835483     922.071219     453.887443     884.866118   \n",
       "min         1.000000       2.000000     -30.000000       1.000000   \n",
       "25%         2.000000       5.000000      29.000000      28.000000   \n",
       "50%         9.000000      24.000000     101.000000     108.000000   \n",
       "75%        42.000000      70.000000     358.000000     432.000000   \n",
       "max      2171.000000    3578.000000   15096.000000   42978.000000   \n",
       "\n",
       "             Revenue  \n",
       "count  113036.000000  \n",
       "mean      754.370360  \n",
       "std      1309.094674  \n",
       "min         2.000000  \n",
       "25%        63.000000  \n",
       "50%       223.000000  \n",
       "75%       800.000000  \n",
       "max     58074.000000  "
      ],
      "text/html": [
       "<div>\n",
       "<style scoped>\n",
       "    .dataframe tbody tr th:only-of-type {\n",
       "        vertical-align: middle;\n",
       "    }\n",
       "\n",
       "    .dataframe tbody tr th {\n",
       "        vertical-align: top;\n",
       "    }\n",
       "\n",
       "    .dataframe thead th {\n",
       "        text-align: right;\n",
       "    }\n",
       "</style>\n",
       "<table border=\"1\" class=\"dataframe\">\n",
       "  <thead>\n",
       "    <tr style=\"text-align: right;\">\n",
       "      <th></th>\n",
       "      <th>Day</th>\n",
       "      <th>Year</th>\n",
       "      <th>Customer_Age</th>\n",
       "      <th>Order_Quantity</th>\n",
       "      <th>Unit_Cost</th>\n",
       "      <th>Unit_Price</th>\n",
       "      <th>Profit</th>\n",
       "      <th>Cost</th>\n",
       "      <th>Revenue</th>\n",
       "    </tr>\n",
       "  </thead>\n",
       "  <tbody>\n",
       "    <tr>\n",
       "      <th>count</th>\n",
       "      <td>113036.000000</td>\n",
       "      <td>113036.000000</td>\n",
       "      <td>113036.000000</td>\n",
       "      <td>113036.000000</td>\n",
       "      <td>113036.000000</td>\n",
       "      <td>113036.000000</td>\n",
       "      <td>113036.000000</td>\n",
       "      <td>113036.000000</td>\n",
       "      <td>113036.000000</td>\n",
       "    </tr>\n",
       "    <tr>\n",
       "      <th>mean</th>\n",
       "      <td>15.665753</td>\n",
       "      <td>2014.401739</td>\n",
       "      <td>35.919212</td>\n",
       "      <td>11.901660</td>\n",
       "      <td>267.296366</td>\n",
       "      <td>452.938427</td>\n",
       "      <td>285.051665</td>\n",
       "      <td>469.318695</td>\n",
       "      <td>754.370360</td>\n",
       "    </tr>\n",
       "    <tr>\n",
       "      <th>std</th>\n",
       "      <td>8.781567</td>\n",
       "      <td>1.272510</td>\n",
       "      <td>11.021936</td>\n",
       "      <td>9.561857</td>\n",
       "      <td>549.835483</td>\n",
       "      <td>922.071219</td>\n",
       "      <td>453.887443</td>\n",
       "      <td>884.866118</td>\n",
       "      <td>1309.094674</td>\n",
       "    </tr>\n",
       "    <tr>\n",
       "      <th>min</th>\n",
       "      <td>1.000000</td>\n",
       "      <td>2011.000000</td>\n",
       "      <td>17.000000</td>\n",
       "      <td>1.000000</td>\n",
       "      <td>1.000000</td>\n",
       "      <td>2.000000</td>\n",
       "      <td>-30.000000</td>\n",
       "      <td>1.000000</td>\n",
       "      <td>2.000000</td>\n",
       "    </tr>\n",
       "    <tr>\n",
       "      <th>25%</th>\n",
       "      <td>8.000000</td>\n",
       "      <td>2013.000000</td>\n",
       "      <td>28.000000</td>\n",
       "      <td>2.000000</td>\n",
       "      <td>2.000000</td>\n",
       "      <td>5.000000</td>\n",
       "      <td>29.000000</td>\n",
       "      <td>28.000000</td>\n",
       "      <td>63.000000</td>\n",
       "    </tr>\n",
       "    <tr>\n",
       "      <th>50%</th>\n",
       "      <td>16.000000</td>\n",
       "      <td>2014.000000</td>\n",
       "      <td>35.000000</td>\n",
       "      <td>10.000000</td>\n",
       "      <td>9.000000</td>\n",
       "      <td>24.000000</td>\n",
       "      <td>101.000000</td>\n",
       "      <td>108.000000</td>\n",
       "      <td>223.000000</td>\n",
       "    </tr>\n",
       "    <tr>\n",
       "      <th>75%</th>\n",
       "      <td>23.000000</td>\n",
       "      <td>2016.000000</td>\n",
       "      <td>43.000000</td>\n",
       "      <td>20.000000</td>\n",
       "      <td>42.000000</td>\n",
       "      <td>70.000000</td>\n",
       "      <td>358.000000</td>\n",
       "      <td>432.000000</td>\n",
       "      <td>800.000000</td>\n",
       "    </tr>\n",
       "    <tr>\n",
       "      <th>max</th>\n",
       "      <td>31.000000</td>\n",
       "      <td>2016.000000</td>\n",
       "      <td>87.000000</td>\n",
       "      <td>32.000000</td>\n",
       "      <td>2171.000000</td>\n",
       "      <td>3578.000000</td>\n",
       "      <td>15096.000000</td>\n",
       "      <td>42978.000000</td>\n",
       "      <td>58074.000000</td>\n",
       "    </tr>\n",
       "  </tbody>\n",
       "</table>\n",
       "</div>"
      ]
     },
     "execution_count": 90,
     "metadata": {},
     "output_type": "execute_result"
    }
   ],
   "execution_count": 90
  },
  {
   "metadata": {},
   "cell_type": "markdown",
   "source": "15. Wykorzystaj dane o sprzedaży do grupowania według kategorii produktów. Oblicz łączną sprzedaż dla każdej kategorii oraz średnią cenę produktu.",
   "id": "4d8a390ca291659b"
  },
  {
   "metadata": {
    "ExecuteTime": {
     "end_time": "2025-10-05T19:04:56.803345Z",
     "start_time": "2025-10-05T19:04:56.793400Z"
    }
   },
   "cell_type": "code",
   "source": [
    "grouped_df = df.groupby('Product_Category').agg({'Revenue': 'sum', 'Unit_Price': 'mean'}).reset_index()\n",
    "grouped_df.rename(columns={\n",
    "    'Revenue': 'Total_Revenue',\n",
    "    'Unit_Price': 'Average_Unit_Price'\n",
    "}, inplace=True)"
   ],
   "id": "7cca33c313982e59",
   "outputs": [],
   "execution_count": 97
  },
  {
   "metadata": {
    "ExecuteTime": {
     "end_time": "2025-10-05T19:04:58.209347Z",
     "start_time": "2025-10-05T19:04:58.204203Z"
    }
   },
   "cell_type": "code",
   "source": "grouped_df",
   "id": "4045a8db3f19fcd0",
   "outputs": [
    {
     "data": {
      "text/plain": [
       "  Product_Category  Total_Revenue  Average_Unit_Price\n",
       "0      Accessories       15117992           16.905305\n",
       "1            Bikes       61782134         1901.138019\n",
       "2         Clothing        8370882           36.469824"
      ],
      "text/html": [
       "<div>\n",
       "<style scoped>\n",
       "    .dataframe tbody tr th:only-of-type {\n",
       "        vertical-align: middle;\n",
       "    }\n",
       "\n",
       "    .dataframe tbody tr th {\n",
       "        vertical-align: top;\n",
       "    }\n",
       "\n",
       "    .dataframe thead th {\n",
       "        text-align: right;\n",
       "    }\n",
       "</style>\n",
       "<table border=\"1\" class=\"dataframe\">\n",
       "  <thead>\n",
       "    <tr style=\"text-align: right;\">\n",
       "      <th></th>\n",
       "      <th>Product_Category</th>\n",
       "      <th>Total_Revenue</th>\n",
       "      <th>Average_Unit_Price</th>\n",
       "    </tr>\n",
       "  </thead>\n",
       "  <tbody>\n",
       "    <tr>\n",
       "      <th>0</th>\n",
       "      <td>Accessories</td>\n",
       "      <td>15117992</td>\n",
       "      <td>16.905305</td>\n",
       "    </tr>\n",
       "    <tr>\n",
       "      <th>1</th>\n",
       "      <td>Bikes</td>\n",
       "      <td>61782134</td>\n",
       "      <td>1901.138019</td>\n",
       "    </tr>\n",
       "    <tr>\n",
       "      <th>2</th>\n",
       "      <td>Clothing</td>\n",
       "      <td>8370882</td>\n",
       "      <td>36.469824</td>\n",
       "    </tr>\n",
       "  </tbody>\n",
       "</table>\n",
       "</div>"
      ]
     },
     "execution_count": 98,
     "metadata": {},
     "output_type": "execute_result"
    }
   ],
   "execution_count": 98
  },
  {
   "metadata": {},
   "cell_type": "markdown",
   "source": "16. Filtruj dane o sprzedaży, aby znaleźć wszystkie transakcje, które miały miejsce w 2013 roku i miały wartość większą niż 3500. Wyświetl wyniki.",
   "id": "140396a65d7264ff"
  },
  {
   "metadata": {
    "ExecuteTime": {
     "end_time": "2025-10-05T19:07:40.829682Z",
     "start_time": "2025-10-05T19:07:40.823446Z"
    }
   },
   "cell_type": "code",
   "source": "df[(df['Year'] == 2013) & (df['Revenue'] > 3500)]",
   "id": "aaf0bf9b428b446d",
   "outputs": [
    {
     "data": {
      "text/plain": [
       "              Date  Day     Month  Year  Customer_Age       Age_Group  \\\n",
       "58252   2013-06-04    4      June  2013            43  Adults (35-64)   \n",
       "58254   2013-07-28   28      July  2013            43  Adults (35-64)   \n",
       "58256   2013-08-12   12    August  2013            43  Adults (35-64)   \n",
       "58258   2013-11-05    5  November  2013            43  Adults (35-64)   \n",
       "58260   2013-12-17   17  December  2013            43  Adults (35-64)   \n",
       "...            ...  ...       ...   ...           ...             ...   \n",
       "71528   2013-07-24   24      July  2013            17     Youth (<25)   \n",
       "71530   2013-08-22   22    August  2013            17     Youth (<25)   \n",
       "71532   2013-11-20   20  November  2013            17     Youth (<25)   \n",
       "71534   2013-12-03    3  December  2013            17     Youth (<25)   \n",
       "112072  2013-07-24   24      July  2013            52  Adults (35-64)   \n",
       "\n",
       "       Customer_Gender        Country       State Product_Category  \\\n",
       "58252                F  United States  California            Bikes   \n",
       "58254                F  United States  California            Bikes   \n",
       "58256                F  United States  California            Bikes   \n",
       "58258                F  United States  California            Bikes   \n",
       "58260                F  United States  California            Bikes   \n",
       "...                ...            ...         ...              ...   \n",
       "71528                F  United States  California            Bikes   \n",
       "71530                F  United States  California            Bikes   \n",
       "71532                F  United States  California            Bikes   \n",
       "71534                F  United States  California            Bikes   \n",
       "112072               M      Australia  Queensland         Clothing   \n",
       "\n",
       "       Sub_Category                  Product  Order_Quantity  Unit_Cost  \\\n",
       "58252    Road Bikes         Road-150 Red, 52               1       2171   \n",
       "58254    Road Bikes         Road-150 Red, 52               1       2171   \n",
       "58256    Road Bikes         Road-150 Red, 52               1       2171   \n",
       "58258    Road Bikes         Road-150 Red, 52               1       2171   \n",
       "58260    Road Bikes         Road-150 Red, 52               1       2171   \n",
       "...             ...                      ...             ...        ...   \n",
       "71528    Road Bikes         Road-150 Red, 56               1       2171   \n",
       "71530    Road Bikes         Road-150 Red, 56               1       2171   \n",
       "71532    Road Bikes         Road-150 Red, 56               1       2171   \n",
       "71534    Road Bikes         Road-150 Red, 56               1       2171   \n",
       "112072        Vests  Touring-1000 Yellow, 50              27       1482   \n",
       "\n",
       "        Unit_Price  Profit   Cost  Revenue  \n",
       "58252         3578    1335   2171     3506  \n",
       "58254         3578    1335   2171     3506  \n",
       "58256         3578    1335   2171     3506  \n",
       "58258         3578    1335   2171     3506  \n",
       "58260         3578    1335   2171     3506  \n",
       "...            ...     ...    ...      ...  \n",
       "71528         3578    1335   2171     3506  \n",
       "71530         3578    1335   2171     3506  \n",
       "71532         3578    1335   2171     3506  \n",
       "71534         3578    1335   2171     3506  \n",
       "112072        2384   14055  40014    54069  \n",
       "\n",
       "[187 rows x 18 columns]"
      ],
      "text/html": [
       "<div>\n",
       "<style scoped>\n",
       "    .dataframe tbody tr th:only-of-type {\n",
       "        vertical-align: middle;\n",
       "    }\n",
       "\n",
       "    .dataframe tbody tr th {\n",
       "        vertical-align: top;\n",
       "    }\n",
       "\n",
       "    .dataframe thead th {\n",
       "        text-align: right;\n",
       "    }\n",
       "</style>\n",
       "<table border=\"1\" class=\"dataframe\">\n",
       "  <thead>\n",
       "    <tr style=\"text-align: right;\">\n",
       "      <th></th>\n",
       "      <th>Date</th>\n",
       "      <th>Day</th>\n",
       "      <th>Month</th>\n",
       "      <th>Year</th>\n",
       "      <th>Customer_Age</th>\n",
       "      <th>Age_Group</th>\n",
       "      <th>Customer_Gender</th>\n",
       "      <th>Country</th>\n",
       "      <th>State</th>\n",
       "      <th>Product_Category</th>\n",
       "      <th>Sub_Category</th>\n",
       "      <th>Product</th>\n",
       "      <th>Order_Quantity</th>\n",
       "      <th>Unit_Cost</th>\n",
       "      <th>Unit_Price</th>\n",
       "      <th>Profit</th>\n",
       "      <th>Cost</th>\n",
       "      <th>Revenue</th>\n",
       "    </tr>\n",
       "  </thead>\n",
       "  <tbody>\n",
       "    <tr>\n",
       "      <th>58252</th>\n",
       "      <td>2013-06-04</td>\n",
       "      <td>4</td>\n",
       "      <td>June</td>\n",
       "      <td>2013</td>\n",
       "      <td>43</td>\n",
       "      <td>Adults (35-64)</td>\n",
       "      <td>F</td>\n",
       "      <td>United States</td>\n",
       "      <td>California</td>\n",
       "      <td>Bikes</td>\n",
       "      <td>Road Bikes</td>\n",
       "      <td>Road-150 Red, 52</td>\n",
       "      <td>1</td>\n",
       "      <td>2171</td>\n",
       "      <td>3578</td>\n",
       "      <td>1335</td>\n",
       "      <td>2171</td>\n",
       "      <td>3506</td>\n",
       "    </tr>\n",
       "    <tr>\n",
       "      <th>58254</th>\n",
       "      <td>2013-07-28</td>\n",
       "      <td>28</td>\n",
       "      <td>July</td>\n",
       "      <td>2013</td>\n",
       "      <td>43</td>\n",
       "      <td>Adults (35-64)</td>\n",
       "      <td>F</td>\n",
       "      <td>United States</td>\n",
       "      <td>California</td>\n",
       "      <td>Bikes</td>\n",
       "      <td>Road Bikes</td>\n",
       "      <td>Road-150 Red, 52</td>\n",
       "      <td>1</td>\n",
       "      <td>2171</td>\n",
       "      <td>3578</td>\n",
       "      <td>1335</td>\n",
       "      <td>2171</td>\n",
       "      <td>3506</td>\n",
       "    </tr>\n",
       "    <tr>\n",
       "      <th>58256</th>\n",
       "      <td>2013-08-12</td>\n",
       "      <td>12</td>\n",
       "      <td>August</td>\n",
       "      <td>2013</td>\n",
       "      <td>43</td>\n",
       "      <td>Adults (35-64)</td>\n",
       "      <td>F</td>\n",
       "      <td>United States</td>\n",
       "      <td>California</td>\n",
       "      <td>Bikes</td>\n",
       "      <td>Road Bikes</td>\n",
       "      <td>Road-150 Red, 52</td>\n",
       "      <td>1</td>\n",
       "      <td>2171</td>\n",
       "      <td>3578</td>\n",
       "      <td>1335</td>\n",
       "      <td>2171</td>\n",
       "      <td>3506</td>\n",
       "    </tr>\n",
       "    <tr>\n",
       "      <th>58258</th>\n",
       "      <td>2013-11-05</td>\n",
       "      <td>5</td>\n",
       "      <td>November</td>\n",
       "      <td>2013</td>\n",
       "      <td>43</td>\n",
       "      <td>Adults (35-64)</td>\n",
       "      <td>F</td>\n",
       "      <td>United States</td>\n",
       "      <td>California</td>\n",
       "      <td>Bikes</td>\n",
       "      <td>Road Bikes</td>\n",
       "      <td>Road-150 Red, 52</td>\n",
       "      <td>1</td>\n",
       "      <td>2171</td>\n",
       "      <td>3578</td>\n",
       "      <td>1335</td>\n",
       "      <td>2171</td>\n",
       "      <td>3506</td>\n",
       "    </tr>\n",
       "    <tr>\n",
       "      <th>58260</th>\n",
       "      <td>2013-12-17</td>\n",
       "      <td>17</td>\n",
       "      <td>December</td>\n",
       "      <td>2013</td>\n",
       "      <td>43</td>\n",
       "      <td>Adults (35-64)</td>\n",
       "      <td>F</td>\n",
       "      <td>United States</td>\n",
       "      <td>California</td>\n",
       "      <td>Bikes</td>\n",
       "      <td>Road Bikes</td>\n",
       "      <td>Road-150 Red, 52</td>\n",
       "      <td>1</td>\n",
       "      <td>2171</td>\n",
       "      <td>3578</td>\n",
       "      <td>1335</td>\n",
       "      <td>2171</td>\n",
       "      <td>3506</td>\n",
       "    </tr>\n",
       "    <tr>\n",
       "      <th>...</th>\n",
       "      <td>...</td>\n",
       "      <td>...</td>\n",
       "      <td>...</td>\n",
       "      <td>...</td>\n",
       "      <td>...</td>\n",
       "      <td>...</td>\n",
       "      <td>...</td>\n",
       "      <td>...</td>\n",
       "      <td>...</td>\n",
       "      <td>...</td>\n",
       "      <td>...</td>\n",
       "      <td>...</td>\n",
       "      <td>...</td>\n",
       "      <td>...</td>\n",
       "      <td>...</td>\n",
       "      <td>...</td>\n",
       "      <td>...</td>\n",
       "      <td>...</td>\n",
       "    </tr>\n",
       "    <tr>\n",
       "      <th>71528</th>\n",
       "      <td>2013-07-24</td>\n",
       "      <td>24</td>\n",
       "      <td>July</td>\n",
       "      <td>2013</td>\n",
       "      <td>17</td>\n",
       "      <td>Youth (&lt;25)</td>\n",
       "      <td>F</td>\n",
       "      <td>United States</td>\n",
       "      <td>California</td>\n",
       "      <td>Bikes</td>\n",
       "      <td>Road Bikes</td>\n",
       "      <td>Road-150 Red, 56</td>\n",
       "      <td>1</td>\n",
       "      <td>2171</td>\n",
       "      <td>3578</td>\n",
       "      <td>1335</td>\n",
       "      <td>2171</td>\n",
       "      <td>3506</td>\n",
       "    </tr>\n",
       "    <tr>\n",
       "      <th>71530</th>\n",
       "      <td>2013-08-22</td>\n",
       "      <td>22</td>\n",
       "      <td>August</td>\n",
       "      <td>2013</td>\n",
       "      <td>17</td>\n",
       "      <td>Youth (&lt;25)</td>\n",
       "      <td>F</td>\n",
       "      <td>United States</td>\n",
       "      <td>California</td>\n",
       "      <td>Bikes</td>\n",
       "      <td>Road Bikes</td>\n",
       "      <td>Road-150 Red, 56</td>\n",
       "      <td>1</td>\n",
       "      <td>2171</td>\n",
       "      <td>3578</td>\n",
       "      <td>1335</td>\n",
       "      <td>2171</td>\n",
       "      <td>3506</td>\n",
       "    </tr>\n",
       "    <tr>\n",
       "      <th>71532</th>\n",
       "      <td>2013-11-20</td>\n",
       "      <td>20</td>\n",
       "      <td>November</td>\n",
       "      <td>2013</td>\n",
       "      <td>17</td>\n",
       "      <td>Youth (&lt;25)</td>\n",
       "      <td>F</td>\n",
       "      <td>United States</td>\n",
       "      <td>California</td>\n",
       "      <td>Bikes</td>\n",
       "      <td>Road Bikes</td>\n",
       "      <td>Road-150 Red, 56</td>\n",
       "      <td>1</td>\n",
       "      <td>2171</td>\n",
       "      <td>3578</td>\n",
       "      <td>1335</td>\n",
       "      <td>2171</td>\n",
       "      <td>3506</td>\n",
       "    </tr>\n",
       "    <tr>\n",
       "      <th>71534</th>\n",
       "      <td>2013-12-03</td>\n",
       "      <td>3</td>\n",
       "      <td>December</td>\n",
       "      <td>2013</td>\n",
       "      <td>17</td>\n",
       "      <td>Youth (&lt;25)</td>\n",
       "      <td>F</td>\n",
       "      <td>United States</td>\n",
       "      <td>California</td>\n",
       "      <td>Bikes</td>\n",
       "      <td>Road Bikes</td>\n",
       "      <td>Road-150 Red, 56</td>\n",
       "      <td>1</td>\n",
       "      <td>2171</td>\n",
       "      <td>3578</td>\n",
       "      <td>1335</td>\n",
       "      <td>2171</td>\n",
       "      <td>3506</td>\n",
       "    </tr>\n",
       "    <tr>\n",
       "      <th>112072</th>\n",
       "      <td>2013-07-24</td>\n",
       "      <td>24</td>\n",
       "      <td>July</td>\n",
       "      <td>2013</td>\n",
       "      <td>52</td>\n",
       "      <td>Adults (35-64)</td>\n",
       "      <td>M</td>\n",
       "      <td>Australia</td>\n",
       "      <td>Queensland</td>\n",
       "      <td>Clothing</td>\n",
       "      <td>Vests</td>\n",
       "      <td>Touring-1000 Yellow, 50</td>\n",
       "      <td>27</td>\n",
       "      <td>1482</td>\n",
       "      <td>2384</td>\n",
       "      <td>14055</td>\n",
       "      <td>40014</td>\n",
       "      <td>54069</td>\n",
       "    </tr>\n",
       "  </tbody>\n",
       "</table>\n",
       "<p>187 rows × 18 columns</p>\n",
       "</div>"
      ]
     },
     "execution_count": 102,
     "metadata": {},
     "output_type": "execute_result"
    }
   ],
   "execution_count": 102
  },
  {
   "metadata": {},
   "cell_type": "markdown",
   "source": "17. Zmień nazwę kolumny \"Product\" na \"Product_Name\" w DataFrame. Użyj list comprehension.",
   "id": "45986c5e7f7dd562"
  },
  {
   "metadata": {
    "ExecuteTime": {
     "end_time": "2025-10-05T19:08:56.264523Z",
     "start_time": "2025-10-05T19:08:56.261610Z"
    }
   },
   "cell_type": "code",
   "source": [
    "df.columns = [\n",
    "    'Product_Name' if col == 'Product' else col\n",
    "    for col in df.columns\n",
    "]"
   ],
   "id": "c4de66e86e41cc69",
   "outputs": [],
   "execution_count": 103
  },
  {
   "metadata": {
    "ExecuteTime": {
     "end_time": "2025-10-05T19:09:30.589403Z",
     "start_time": "2025-10-05T19:09:30.586310Z"
    }
   },
   "cell_type": "code",
   "source": "df.columns",
   "id": "76abe8a8b848913c",
   "outputs": [
    {
     "data": {
      "text/plain": [
       "Index(['Date', 'Day', 'Month', 'Year', 'Customer_Age', 'Age_Group',\n",
       "       'Customer_Gender', 'Country', 'State', 'Product_Category',\n",
       "       'Sub_Category', 'Product_Name', 'Order_Quantity', 'Unit_Cost',\n",
       "       'Unit_Price', 'Profit', 'Cost', 'Revenue'],\n",
       "      dtype='object')"
      ]
     },
     "execution_count": 106,
     "metadata": {},
     "output_type": "execute_result"
    }
   ],
   "execution_count": 106
  },
  {
   "metadata": {},
   "cell_type": "markdown",
   "source": "18. Dodaj nową kolumnę \"Rabat\", która będzie zawierać rabaty w wysokości 10% od wartości transakcji.",
   "id": "a52af11326764289"
  },
  {
   "metadata": {
    "ExecuteTime": {
     "end_time": "2025-10-05T19:11:12.352391Z",
     "start_time": "2025-10-05T19:11:12.346096Z"
    }
   },
   "cell_type": "code",
   "source": [
    "df['Discount'] = (df['Revenue'] * 0.1).round(2)\n",
    "df.head(8)"
   ],
   "id": "cbd383f77e0903fe",
   "outputs": [
    {
     "data": {
      "text/plain": [
       "         Date  Day     Month  Year  Customer_Age       Age_Group  \\\n",
       "0  2013-11-26   26  November  2013            19     Youth (<25)   \n",
       "1  2015-11-26   26  November  2015            19     Youth (<25)   \n",
       "2  2014-03-23   23     March  2014            49  Adults (35-64)   \n",
       "3  2016-03-23   23     March  2016            49  Adults (35-64)   \n",
       "4  2014-05-15   15       May  2014            47  Adults (35-64)   \n",
       "5  2016-05-15   15       May  2016            47  Adults (35-64)   \n",
       "6  2014-05-22   22       May  2014            47  Adults (35-64)   \n",
       "7  2016-05-22   22       May  2016            47  Adults (35-64)   \n",
       "\n",
       "  Customer_Gender    Country             State Product_Category Sub_Category  \\\n",
       "0               M     Canada  British Columbia      Accessories   Bike Racks   \n",
       "1               M     Canada  British Columbia      Accessories   Bike Racks   \n",
       "2               M  Australia   New South Wales      Accessories   Bike Racks   \n",
       "3               M  Australia   New South Wales      Accessories   Bike Racks   \n",
       "4               F  Australia   New South Wales      Accessories   Bike Racks   \n",
       "5               F  Australia   New South Wales      Accessories   Bike Racks   \n",
       "6               F  Australia          Victoria      Accessories   Bike Racks   \n",
       "7               F  Australia          Victoria      Accessories   Bike Racks   \n",
       "\n",
       "          Product_Name  Order_Quantity  Unit_Cost  Unit_Price  Profit  Cost  \\\n",
       "0  Hitch Rack - 4-Bike               8         45         120     590   360   \n",
       "1  Hitch Rack - 4-Bike               8         45         120     590   360   \n",
       "2  Hitch Rack - 4-Bike              23         45         120    1366  1035   \n",
       "3  Hitch Rack - 4-Bike              20         45         120    1188   900   \n",
       "4  Hitch Rack - 4-Bike               4         45         120     238   180   \n",
       "5  Hitch Rack - 4-Bike               5         45         120     297   225   \n",
       "6  Hitch Rack - 4-Bike               4         45         120     199   180   \n",
       "7  Hitch Rack - 4-Bike               2         45         120     100    90   \n",
       "\n",
       "   Revenue  Discount  \n",
       "0      950      95.0  \n",
       "1      950      95.0  \n",
       "2     2401     240.1  \n",
       "3     2088     208.8  \n",
       "4      418      41.8  \n",
       "5      522      52.2  \n",
       "6      379      37.9  \n",
       "7      190      19.0  "
      ],
      "text/html": [
       "<div>\n",
       "<style scoped>\n",
       "    .dataframe tbody tr th:only-of-type {\n",
       "        vertical-align: middle;\n",
       "    }\n",
       "\n",
       "    .dataframe tbody tr th {\n",
       "        vertical-align: top;\n",
       "    }\n",
       "\n",
       "    .dataframe thead th {\n",
       "        text-align: right;\n",
       "    }\n",
       "</style>\n",
       "<table border=\"1\" class=\"dataframe\">\n",
       "  <thead>\n",
       "    <tr style=\"text-align: right;\">\n",
       "      <th></th>\n",
       "      <th>Date</th>\n",
       "      <th>Day</th>\n",
       "      <th>Month</th>\n",
       "      <th>Year</th>\n",
       "      <th>Customer_Age</th>\n",
       "      <th>Age_Group</th>\n",
       "      <th>Customer_Gender</th>\n",
       "      <th>Country</th>\n",
       "      <th>State</th>\n",
       "      <th>Product_Category</th>\n",
       "      <th>Sub_Category</th>\n",
       "      <th>Product_Name</th>\n",
       "      <th>Order_Quantity</th>\n",
       "      <th>Unit_Cost</th>\n",
       "      <th>Unit_Price</th>\n",
       "      <th>Profit</th>\n",
       "      <th>Cost</th>\n",
       "      <th>Revenue</th>\n",
       "      <th>Discount</th>\n",
       "    </tr>\n",
       "  </thead>\n",
       "  <tbody>\n",
       "    <tr>\n",
       "      <th>0</th>\n",
       "      <td>2013-11-26</td>\n",
       "      <td>26</td>\n",
       "      <td>November</td>\n",
       "      <td>2013</td>\n",
       "      <td>19</td>\n",
       "      <td>Youth (&lt;25)</td>\n",
       "      <td>M</td>\n",
       "      <td>Canada</td>\n",
       "      <td>British Columbia</td>\n",
       "      <td>Accessories</td>\n",
       "      <td>Bike Racks</td>\n",
       "      <td>Hitch Rack - 4-Bike</td>\n",
       "      <td>8</td>\n",
       "      <td>45</td>\n",
       "      <td>120</td>\n",
       "      <td>590</td>\n",
       "      <td>360</td>\n",
       "      <td>950</td>\n",
       "      <td>95.0</td>\n",
       "    </tr>\n",
       "    <tr>\n",
       "      <th>1</th>\n",
       "      <td>2015-11-26</td>\n",
       "      <td>26</td>\n",
       "      <td>November</td>\n",
       "      <td>2015</td>\n",
       "      <td>19</td>\n",
       "      <td>Youth (&lt;25)</td>\n",
       "      <td>M</td>\n",
       "      <td>Canada</td>\n",
       "      <td>British Columbia</td>\n",
       "      <td>Accessories</td>\n",
       "      <td>Bike Racks</td>\n",
       "      <td>Hitch Rack - 4-Bike</td>\n",
       "      <td>8</td>\n",
       "      <td>45</td>\n",
       "      <td>120</td>\n",
       "      <td>590</td>\n",
       "      <td>360</td>\n",
       "      <td>950</td>\n",
       "      <td>95.0</td>\n",
       "    </tr>\n",
       "    <tr>\n",
       "      <th>2</th>\n",
       "      <td>2014-03-23</td>\n",
       "      <td>23</td>\n",
       "      <td>March</td>\n",
       "      <td>2014</td>\n",
       "      <td>49</td>\n",
       "      <td>Adults (35-64)</td>\n",
       "      <td>M</td>\n",
       "      <td>Australia</td>\n",
       "      <td>New South Wales</td>\n",
       "      <td>Accessories</td>\n",
       "      <td>Bike Racks</td>\n",
       "      <td>Hitch Rack - 4-Bike</td>\n",
       "      <td>23</td>\n",
       "      <td>45</td>\n",
       "      <td>120</td>\n",
       "      <td>1366</td>\n",
       "      <td>1035</td>\n",
       "      <td>2401</td>\n",
       "      <td>240.1</td>\n",
       "    </tr>\n",
       "    <tr>\n",
       "      <th>3</th>\n",
       "      <td>2016-03-23</td>\n",
       "      <td>23</td>\n",
       "      <td>March</td>\n",
       "      <td>2016</td>\n",
       "      <td>49</td>\n",
       "      <td>Adults (35-64)</td>\n",
       "      <td>M</td>\n",
       "      <td>Australia</td>\n",
       "      <td>New South Wales</td>\n",
       "      <td>Accessories</td>\n",
       "      <td>Bike Racks</td>\n",
       "      <td>Hitch Rack - 4-Bike</td>\n",
       "      <td>20</td>\n",
       "      <td>45</td>\n",
       "      <td>120</td>\n",
       "      <td>1188</td>\n",
       "      <td>900</td>\n",
       "      <td>2088</td>\n",
       "      <td>208.8</td>\n",
       "    </tr>\n",
       "    <tr>\n",
       "      <th>4</th>\n",
       "      <td>2014-05-15</td>\n",
       "      <td>15</td>\n",
       "      <td>May</td>\n",
       "      <td>2014</td>\n",
       "      <td>47</td>\n",
       "      <td>Adults (35-64)</td>\n",
       "      <td>F</td>\n",
       "      <td>Australia</td>\n",
       "      <td>New South Wales</td>\n",
       "      <td>Accessories</td>\n",
       "      <td>Bike Racks</td>\n",
       "      <td>Hitch Rack - 4-Bike</td>\n",
       "      <td>4</td>\n",
       "      <td>45</td>\n",
       "      <td>120</td>\n",
       "      <td>238</td>\n",
       "      <td>180</td>\n",
       "      <td>418</td>\n",
       "      <td>41.8</td>\n",
       "    </tr>\n",
       "    <tr>\n",
       "      <th>5</th>\n",
       "      <td>2016-05-15</td>\n",
       "      <td>15</td>\n",
       "      <td>May</td>\n",
       "      <td>2016</td>\n",
       "      <td>47</td>\n",
       "      <td>Adults (35-64)</td>\n",
       "      <td>F</td>\n",
       "      <td>Australia</td>\n",
       "      <td>New South Wales</td>\n",
       "      <td>Accessories</td>\n",
       "      <td>Bike Racks</td>\n",
       "      <td>Hitch Rack - 4-Bike</td>\n",
       "      <td>5</td>\n",
       "      <td>45</td>\n",
       "      <td>120</td>\n",
       "      <td>297</td>\n",
       "      <td>225</td>\n",
       "      <td>522</td>\n",
       "      <td>52.2</td>\n",
       "    </tr>\n",
       "    <tr>\n",
       "      <th>6</th>\n",
       "      <td>2014-05-22</td>\n",
       "      <td>22</td>\n",
       "      <td>May</td>\n",
       "      <td>2014</td>\n",
       "      <td>47</td>\n",
       "      <td>Adults (35-64)</td>\n",
       "      <td>F</td>\n",
       "      <td>Australia</td>\n",
       "      <td>Victoria</td>\n",
       "      <td>Accessories</td>\n",
       "      <td>Bike Racks</td>\n",
       "      <td>Hitch Rack - 4-Bike</td>\n",
       "      <td>4</td>\n",
       "      <td>45</td>\n",
       "      <td>120</td>\n",
       "      <td>199</td>\n",
       "      <td>180</td>\n",
       "      <td>379</td>\n",
       "      <td>37.9</td>\n",
       "    </tr>\n",
       "    <tr>\n",
       "      <th>7</th>\n",
       "      <td>2016-05-22</td>\n",
       "      <td>22</td>\n",
       "      <td>May</td>\n",
       "      <td>2016</td>\n",
       "      <td>47</td>\n",
       "      <td>Adults (35-64)</td>\n",
       "      <td>F</td>\n",
       "      <td>Australia</td>\n",
       "      <td>Victoria</td>\n",
       "      <td>Accessories</td>\n",
       "      <td>Bike Racks</td>\n",
       "      <td>Hitch Rack - 4-Bike</td>\n",
       "      <td>2</td>\n",
       "      <td>45</td>\n",
       "      <td>120</td>\n",
       "      <td>100</td>\n",
       "      <td>90</td>\n",
       "      <td>190</td>\n",
       "      <td>19.0</td>\n",
       "    </tr>\n",
       "  </tbody>\n",
       "</table>\n",
       "</div>"
      ]
     },
     "execution_count": 110,
     "metadata": {},
     "output_type": "execute_result"
    }
   ],
   "execution_count": 110
  },
  {
   "metadata": {},
   "cell_type": "markdown",
   "source": "19. Po wykonaniu wszystkich operacji na danych o sprzedaży, zapisz przetworzony DataFrame do nowego pliku CSV o nazwie processed_sales_data.csv.",
   "id": "1ea45ea2eba5826e"
  },
  {
   "metadata": {
    "ExecuteTime": {
     "end_time": "2025-10-05T19:12:46.734142Z",
     "start_time": "2025-10-05T19:12:46.432183Z"
    }
   },
   "cell_type": "code",
   "source": "df.to_csv('processed_sales_data.csv', index=False)",
   "id": "be5ae4dba1c2428d",
   "outputs": [],
   "execution_count": 112
  },
  {
   "metadata": {},
   "cell_type": "markdown",
   "source": "20. Użyj metody plot() do stworzenia wykresu słupkowego, który przedstawia łączną liczbę sprzedaży dla różnych kategorii produktów.",
   "id": "714b91eb6573296c"
  },
  {
   "metadata": {
    "ExecuteTime": {
     "end_time": "2025-10-05T19:18:23.490232Z",
     "start_time": "2025-10-05T19:18:23.420735Z"
    }
   },
   "cell_type": "code",
   "source": [
    "grouped_df.plot(x='Product_Category',\n",
    "                y='Total_Revenue',\n",
    "                kind='bar',\n",
    "                legend=False,\n",
    "                figsize=(8, 5),\n",
    "                color='magenta',\n",
    "                title='Total Revenue by Product Category')"
   ],
   "id": "8576e16b48a199d7",
   "outputs": [
    {
     "data": {
      "text/plain": [
       "<Axes: title={'center': 'Total Revenue by Product Category'}, xlabel='Product_Category'>"
      ]
     },
     "execution_count": 125,
     "metadata": {},
     "output_type": "execute_result"
    },
    {
     "data": {
      "text/plain": [
       "<Figure size 800x500 with 1 Axes>"
      ],
      "image/png": "[encoded data removed]"
     },
     "metadata": {},
     "output_type": "display_data"
    }
   ],
   "execution_count": 125
  }
 ],
 "metadata": {
  "kernelspec": {
   "display_name": "Python 3",
   "language": "python",
   "name": "python3"
  },
  "language_info": {
   "codemirror_mode": {
    "name": "ipython",
    "version": 2
   },
   "file_extension": ".py",
   "mimetype": "text/x-python",
   "name": "python",
   "nbconvert_exporter": "python",
   "pygments_lexer": "ipython2",
   "version": "2.7.6"
  }
 },
 "nbformat": 4,
 "nbformat_minor": 5
}
